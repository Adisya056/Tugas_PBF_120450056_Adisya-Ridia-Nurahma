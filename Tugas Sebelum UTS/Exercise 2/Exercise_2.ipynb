{
  "nbformat": 4,
  "nbformat_minor": 0,
  "metadata": {
    "colab": {
      "name": "Exercise_2.ipynb",
      "provenance": []
    },
    "kernelspec": {
      "name": "python3",
      "display_name": "Python 3"
    },
    "language_info": {
      "name": "python"
    }
  },
  "cells": [
    {
      "cell_type": "markdown",
      "source": [
        "Nama : Adisya Ridia Nurahma\n",
        "\n",
        "NIM : 120450056\n",
        "\n",
        "Kelas RB"
      ],
      "metadata": {
        "id": "V98LfLeMxQ_v"
      }
    },
    {
      "cell_type": "code",
      "source": [
        "import numpy as np"
      ],
      "metadata": {
        "id": "E1AxfNuzwae5"
      },
      "execution_count": 4,
      "outputs": []
    },
    {
      "cell_type": "code",
      "source": [
        "def_0561 = open('data 1.txt').read()\n",
        "def_0562 = open('data 2.txt').read()\n",
        "\n",
        "print((lambda x,y: int(x)+int(y))(def_0561,def_0562))"
      ],
      "metadata": {
        "colab": {
          "base_uri": "https://localhost:8080/"
        },
        "id": "PFsB70n2RkEG",
        "outputId": "2bb4a885-40ed-47bc-fca2-b9850a9402c5"
      },
      "execution_count": 5,
      "outputs": [
        {
          "output_type": "stream",
          "name": "stdout",
          "text": [
            "11618630337554815085247537074639538749043421784075800491438596240332637637365764884405967584806646855\n"
          ]
        }
      ]
    }
  ]
}