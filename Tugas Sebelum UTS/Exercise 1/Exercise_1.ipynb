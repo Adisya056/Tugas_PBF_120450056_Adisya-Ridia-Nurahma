{
  "nbformat": 4,
  "nbformat_minor": 0,
  "metadata": {
    "colab": {
      "name": "Exercise 1 .ipynb",
      "provenance": []
    },
    "kernelspec": {
      "name": "python3",
      "display_name": "Python 3"
    },
    "language_info": {
      "name": "python"
    }
  },
  "cells": [
    {
      "cell_type": "markdown",
      "source": [
        "Nama : Adisya Ridia Nurahma\n",
        "\n",
        "NIM : 120450056\n",
        "\n",
        "Kelas RB"
      ],
      "metadata": {
        "id": "OPsQN5d7uK3a"
      }
    },
    {
      "cell_type": "code",
      "execution_count": 4,
      "metadata": {
        "colab": {
          "base_uri": "https://localhost:8080/"
        },
        "id": "Zfebk1cMOSbP",
        "outputId": "6d94e60b-6bba-44fe-9378-f697443f2a42"
      },
      "outputs": [
        {
          "output_type": "stream",
          "name": "stdout",
          "text": [
            "Real Password : anakanakcerdas2020\n",
            "Encrypt : Sc+TV+Sc+TS-Sc+TV+Sc+TS-Se+Sg+TZ+Sf+Sc+T[+Qh+Qf+Qh+Qf+\n",
            "Encrypt : Sc-TV-Sc-TS+T[-Sc-TQ+TV-T[-Sf-Sc-T\\-Sc-Qh-Qf-Qh-Qf-TS+Sg-Se-Sg-\n",
            "Real Password : anaksainsdata2020kece\n"
          ]
        }
      ],
      "source": [
        "def encrypt(pwd):\n",
        "  splitpass = list(pwd)\n",
        "  asciipass = list()\n",
        "  for char in splitpass:\n",
        "    asciichar = ord(char)\n",
        "    asciipass.append(asciichar)\n",
        "\n",
        "  np = \"\"\n",
        "  for num in asciipass:\n",
        "    firstval = num//26 + 80\n",
        "    secondval = num%26 + 80\n",
        "    if firstval > secondval:\n",
        "      thirdval = '-'\n",
        "    else:\n",
        "      thirdval = '+'\n",
        "    np = np + chr(firstval) + chr(secondval) + thirdval\n",
        "  return np\n",
        "\n",
        "def real_pass(pwd):\n",
        "  splitpass = [pwd[i:i+3] for i in range(0, len(pwd), 3)]\n",
        "  asciipass = list()\n",
        "  for word in splitpass:\n",
        "    firstval = ord(word[0]) - 80\n",
        "    secval = ord(word[1]) - 80\n",
        "    val = 26 * firstval + secval\n",
        "    asciipass.append(val)\n",
        "  password = ''\n",
        "  for i in asciipass:\n",
        "    char = chr(i)\n",
        "    password = password + char\n",
        "  return password\n",
        "\n",
        "password1 = 'anakanakcerdas2020'\n",
        "print ('Real Password : '+ password1)\n",
        "print (\"Encrypt : \"+ encrypt(password1))\n",
        "\n",
        "password2 = \"Sc-TV-Sc-TS+T[-Sc-TQ+TV-T[-Sf-Sc-T\\-Sc-Qh-Qf-Qh-Qf-TS+Sg-Se-Sg-\"\n",
        "print (\"Encrypt : \" + password2)\n",
        "print (\"Real Password : \" + real_pass(password2))"
      ]
    }
  ]
}